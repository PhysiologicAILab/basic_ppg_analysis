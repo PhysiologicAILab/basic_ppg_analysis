{
 "cells": [
  {
   "cell_type": "markdown",
   "metadata": {},
   "source": [
    "# Extraction of Basic Features from PPG Signal acquired from Empatica"
   ]
  },
  {
   "cell_type": "markdown",
   "metadata": {},
   "source": [
    "## Import packages"
   ]
  },
  {
   "cell_type": "code",
   "execution_count": null,
   "metadata": {},
   "outputs": [],
   "source": [
    "from utils.process_ppg import get_clean_segment, get_ppg_measures_batch\n",
    "from scipy import signal\n",
    "from datetime import datetime\n",
    "%matplotlib inline\n",
    "\n",
    "import os\n",
    "import csv\n",
    "import numpy as np\n",
    "import matplotlib.pyplot as plt\n",
    "import heartpy as hp\n",
    "import pandas as pd\n",
    "pd.set_option(\"display.precision\", 2)\n",
    "from scipy.interpolate import interp1d\n"
   ]
  },
  {
   "cell_type": "markdown",
   "metadata": {},
   "source": [
    "# Load the data \n",
    "### Specify directory paths and the file containing PPG signal"
   ]
  },
  {
   "cell_type": "code",
   "execution_count": null,
   "metadata": {},
   "outputs": [],
   "source": [
    "basepath = os.path.join('data', 'EMPATICA_Data') \n",
    "# Change this to analyze PPG singal of your interest\n",
    "filepath = os.path.join(basepath, r'Empatica_Sample.csv')\n",
    "sample_rate = 64  #Change this as per the sampling rate. 64 for Empatica E4 Wristband - though please verify this\n",
    "dataframe = pd.read_csv(filepath, index_col='seconds')"
   ]
  },
  {
   "cell_type": "code",
   "execution_count": null,
   "metadata": {},
   "outputs": [],
   "source": [
    "time_array = np.array(dataframe.index, dtype=float)\n",
    "time_array = (time_array - time_array[0])/1000.0\n",
    "print(time_array[0:5])"
   ]
  },
  {
   "cell_type": "markdown",
   "metadata": {},
   "source": [
    "## Visualize raw signal"
   ]
  },
  {
   "cell_type": "code",
   "execution_count": null,
   "metadata": {},
   "outputs": [],
   "source": [
    "dataframe['ppg1'].plot()"
   ]
  },
  {
   "cell_type": "code",
   "execution_count": null,
   "metadata": {},
   "outputs": [],
   "source": [
    "dataframe['ppg2'].plot()"
   ]
  },
  {
   "cell_type": "code",
   "execution_count": null,
   "metadata": {},
   "outputs": [],
   "source": [
    "dataframe['gsr'].plot()"
   ]
  },
  {
   "cell_type": "markdown",
   "metadata": {},
   "source": [
    "## Filter the signal and Plot\n"
   ]
  },
  {
   "cell_type": "code",
   "execution_count": null,
   "metadata": {},
   "outputs": [],
   "source": [
    "npy_ppg1 = np.array(dataframe['ppg1'], dtype=float)\n",
    "# t_ppg1, ppg1_filtered = get_filtered_ppg(time_array, npy_ppg1, sample_rate=sample_rate)\n",
    "sos = signal.butter(10, (1.0, 4.0), 'bandpass', fs=sample_rate, output='sos')\n",
    "filtered = signal.sosfilt(sos, npy_ppg1)"
   ]
  },
  {
   "cell_type": "code",
   "execution_count": null,
   "metadata": {},
   "outputs": [],
   "source": [
    "plt.figure(figsize=(12, 4))\n",
    "plt.plot(time_array, filtered)\n",
    "plt.xlabel('Time(seconds)')\n",
    "plt.title('Filtered PPG Signal')"
   ]
  },
  {
   "cell_type": "code",
   "execution_count": null,
   "metadata": {},
   "outputs": [],
   "source": [
    "# This will try to get maximum clean segment available from the entire signal. With higher number for std_n, larger segment can be expected - though having more noise\n",
    "filtered_clean = get_clean_segment(filtered, std_n=3.0)\n",
    "plt.figure(figsize=(12, 4))\n",
    "plt.plot(filtered_clean)\n",
    "plt.title('Clean Segment of Filtered PPG Signal')\n"
   ]
  },
  {
   "cell_type": "markdown",
   "metadata": {},
   "source": [
    "## Compute the features using 'heartpy' Python package <br>\n",
    "Plot the signal with peaks identified and print the measures derived"
   ]
  },
  {
   "cell_type": "code",
   "execution_count": null,
   "metadata": {
    "tags": []
   },
   "outputs": [],
   "source": [
    "wd, m = hp.process(filtered_clean, sample_rate=sample_rate)\n",
    "print(wd.keys())\n",
    "\n",
    "#display computed features\n",
    "for measure in m.keys():\n",
    "    print(measure, m[measure])"
   ]
  },
  {
   "cell_type": "markdown",
   "metadata": {},
   "source": [
    "### Plot PPG signal with detected and rejected peaks"
   ]
  },
  {
   "cell_type": "code",
   "execution_count": null,
   "metadata": {},
   "outputs": [],
   "source": [
    "#Plot PPG Signal with Peaks\n",
    "plt.figure(figsize=(12,4))\n",
    "x_axis = [i/sample_rate for i in range(len(wd['hr']))]\n",
    "plt.plot(x_axis, wd['hr'])\n",
    "plt.plot(np.array(wd['peaklist'])/sample_rate, wd['hr'][wd['peaklist']], '.', color='g', label='Peaks')\n",
    "plt.plot(np.array(wd['removed_beats'])/sample_rate, wd['hr'][wd['removed_beats']], '.', color='r', label='Rejected Peaks')\n",
    "mx = max(wd['hr'])\n",
    "plt.text(2,  mx, 'HR: ' + str(int(round(m['bpm']))))\n",
    "plt.text(5, mx, 'IBI: ' +  str(int(round(m['ibi']))))\n",
    "plt.text(8, mx, 'SDNN: ' +  str(int(round(m['sdnn']))))\n",
    "plt.text(11, mx, 'Resp: ' +  str(int(round(m['breathingrate'] * 60))))\n",
    "\n",
    "plt.legend()\n",
    "plt.xlabel('Time(seconds)')\n",
    "plt.title('Filtered PPG Signal with Detected Peaks: ')"
   ]
  },
  {
   "cell_type": "markdown",
   "metadata": {},
   "source": [
    "### Plot Breathing signal derived from PPG signal"
   ]
  },
  {
   "cell_type": "code",
   "execution_count": null,
   "metadata": {},
   "outputs": [],
   "source": [
    "# Plot breathing signal derived from PPG signal\n",
    "x_axis_br = [i/1000.0 for i in range(len(wd['breathing_signal']))]\n",
    "plt.plot(x_axis_br, wd['breathing_signal'])\n",
    "plt.xlabel('Time(seconds)')\n",
    "plt.title('Breathing Signal')"
   ]
  }
 ],
 "metadata": {
  "kernelspec": {
   "display_name": "Python 3.8.10 ('ucl')",
   "language": "python",
   "name": "python3"
  },
  "language_info": {
   "codemirror_mode": {
    "name": "ipython",
    "version": 3
   },
   "file_extension": ".py",
   "mimetype": "text/x-python",
   "name": "python",
   "nbconvert_exporter": "python",
   "pygments_lexer": "ipython3",
   "version": "3.8.10"
  },
  "vscode": {
   "interpreter": {
    "hash": "23d02fac383de82f73b6f7162d36651e7d4ab17e181db5736d370ed861e4512d"
   }
  }
 },
 "nbformat": 4,
 "nbformat_minor": 2
}
