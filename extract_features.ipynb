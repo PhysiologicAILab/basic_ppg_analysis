{
 "cells": [
  {
   "cell_type": "markdown",
   "metadata": {},
   "source": [
    "# PSYC0021: Tutorial to Extract Features from PPG Signal"
   ]
  },
  {
   "cell_type": "markdown",
   "metadata": {},
   "source": [
    "## Import packages"
   ]
  },
  {
   "cell_type": "code",
   "execution_count": null,
   "metadata": {},
   "outputs": [],
   "source": [
    "%matplotlib inline\n",
    "\n",
    "import os\n",
    "import csv\n",
    "import numpy as np\n",
    "import matplotlib.pyplot as plt\n",
    "import heartpy as hp\n",
    "import pandas as pd\n",
    "pd.set_option(\"display.precision\", 2)\n",
    "from scipy.interpolate import interp1d\n",
    "from utils.process_ppg import load_PPG_signal, get_filtered_ppg, get_ppg_measures_batch"
   ]
  },
  {
   "cell_type": "markdown",
   "metadata": {},
   "source": [
    "## Specify directory paths and the file containing PPG signal"
   ]
  },
  {
   "cell_type": "code",
   "execution_count": null,
   "metadata": {},
   "outputs": [],
   "source": [
    "basepath = 'data/' \n",
    "# filepath = os.path.join(basepath, r'RawPPG/s001/ppgSignal_low_2021-03-04 221859.334287.csv') #Change this to analyze PPG singal of your interest\n",
    "# filepath = os.path.join(basepath, r'RawPPG/s001/ppgSignal_moderate_2021-03-17 23_47_06.716435.csv') #Change this to analyze PPG singal of your interest\n",
    "filepath = os.path.join(basepath, r'RawPPG/s001/ppgSignal_high_2021-03-17 23_49_47.641078.csv') #Change this to analyze PPG singal of your interest\n",
    "sample_rate = 30.0  #Change this as per the frame-rate of your smart-phone. If you used PPG.apk to acquire the data, then you shall keep this unchanged"
   ]
  },
  {
   "cell_type": "markdown",
   "metadata": {},
   "source": [
    "## Load the signal"
   ]
  },
  {
   "cell_type": "code",
   "execution_count": null,
   "metadata": {},
   "outputs": [],
   "source": [
    "raw_signal, tElapsed = load_PPG_signal(filepath)\n",
    "exertion_level = os.path.basename(filepath).split('_')[1]"
   ]
  },
  {
   "cell_type": "markdown",
   "metadata": {},
   "source": [
    "## Visualize raw signal"
   ]
  },
  {
   "cell_type": "code",
   "execution_count": null,
   "metadata": {},
   "outputs": [],
   "source": [
    "x_axis = [i/sample_rate for i in range(len(raw_signal))]\n",
    "plt.plot(x_axis, raw_signal)\n",
    "plt.xlabel('Time(seconds)')\n",
    "plt.title('Raw PPG Signal: ' + 'Exertion - ' + exertion_level)"
   ]
  },
  {
   "cell_type": "markdown",
   "metadata": {},
   "source": [
    "## Filter the signal and Plot\n"
   ]
  },
  {
   "cell_type": "code",
   "execution_count": null,
   "metadata": {},
   "outputs": [],
   "source": [
    "filtered = get_filtered_ppg(raw_signal, sample_rate=sample_rate)\n",
    "if len(filtered) > 30*sample_rate:\n",
    "    start_indx = int(((len(filtered)//2) - (15*sample_rate)))\n",
    "    end_indx = int(((len(filtered)//2) + (15*sample_rate)))\n",
    "    filtered = filtered[start_indx : end_indx]\n",
    "plt.figure(figsize=(12,4))\n",
    "x_axis = [i/sample_rate for i in range(len(filtered))]\n",
    "plt.plot(x_axis, filtered)\n",
    "plt.xlabel('Time(seconds)')\n",
    "plt.title('Filtered PPG Signal: ' + 'Exertion - ' + exertion_level)"
   ]
  },
  {
   "cell_type": "markdown",
   "metadata": {},
   "source": [
    "## Compute the features using 'heartpy' Python package <br>\n",
    "Plot the signal with peaks identified and print the measures derived"
   ]
  },
  {
   "cell_type": "code",
   "execution_count": null,
   "metadata": {
    "tags": []
   },
   "outputs": [],
   "source": [
    "wd, m = hp.process(filtered, sample_rate = sample_rate)\n",
    "# print(wd.keys())\n",
    "m['exertion_level'] = exertion_level\n",
    "\n",
    "#display computer features\n",
    "for measure in m.keys():\n",
    "    print(measure, m[measure])"
   ]
  },
  {
   "source": [
    "### Plot PPG signal with detected and rejected peaks"
   ],
   "cell_type": "markdown",
   "metadata": {}
  },
  {
   "cell_type": "code",
   "execution_count": null,
   "metadata": {},
   "outputs": [],
   "source": [
    "#Plot PPG Signal with Peaks\n",
    "plt.figure(figsize=(12,4))\n",
    "x_axis = [i/sample_rate for i in range(len(wd['hr']))]\n",
    "plt.plot(x_axis, wd['hr'])\n",
    "plt.plot(np.array(wd['peaklist'])/sample_rate, wd['hr'][wd['peaklist']], '.', color='g', label='Peaks')\n",
    "plt.plot(np.array(wd['removed_beats'])/sample_rate, wd['hr'][wd['removed_beats']], '.', color='r', label='Rejected Peaks')\n",
    "mx = max(wd['hr'])\n",
    "plt.text(2,  mx, 'HR: ' + str(int(round(m['bpm']))))\n",
    "plt.text(5, mx, 'IBI: ' +  str(int(round(m['ibi']))))\n",
    "plt.text(8, mx, 'SDNN: ' +  str(int(round(m['sdnn']))))\n",
    "plt.text(11, mx, 'Resp: ' +  str(int(round(m['breathingrate'] * 60))))\n",
    "\n",
    "plt.legend()\n",
    "plt.xlabel('Time(seconds)')\n",
    "plt.title('Filtered PPG Signal with Detected Peaks: ' + 'Exertion - ' + exertion_level)"
   ]
  },
  {
   "source": [
    "### Plot Breathing signal derived from PPG signal"
   ],
   "cell_type": "markdown",
   "metadata": {}
  },
  {
   "cell_type": "code",
   "execution_count": null,
   "metadata": {},
   "outputs": [],
   "source": [
    "# Plot breathing signal derived from PPG signal\n",
    "x_axis_br = [i/1000.0 for i in range(len(wd['breathing_signal']))]\n",
    "plt.plot(x_axis_br, wd['breathing_signal'])\n",
    "plt.xlabel('Time(seconds)')\n",
    "plt.title('Breathing Signal')"
   ]
  },
  {
   "cell_type": "markdown",
   "metadata": {},
   "source": [
    "## Batch processing for feature extraction"
   ]
  },
  {
   "cell_type": "code",
   "execution_count": null,
   "metadata": {},
   "outputs": [],
   "source": [
    "# datapath = os.path.join(basepath, 'RawPPG')\n",
    "get_ppg_measures_batch(basepath, outdir=basepath, sample_rate=sample_rate)"
   ]
  },
  {
   "cell_type": "markdown",
   "metadata": {},
   "source": [
    "## Next Steps\n",
    "As an outcome of this tutorial, two files will be generated (in basepath directory) comprising of PPG derived features for each of the signals present in the directory <br>\n",
    "1. PPG_features.csv -> To be used with WEKA for further ML Model Development <br>\n",
    "2. PPG_features.pkl -> To be used for ML Model Development using Python"
   ]
  }
 ],
 "metadata": {
  "kernelspec": {
   "display_name": "Python 3",
   "language": "python",
   "name": "python3"
  },
  "language_info": {
   "codemirror_mode": {
    "name": "ipython",
    "version": 3
   },
   "file_extension": ".py",
   "mimetype": "text/x-python",
   "name": "python",
   "nbconvert_exporter": "python",
   "pygments_lexer": "ipython3",
   "version": "3.8.5-final"
  }
 },
 "nbformat": 4,
 "nbformat_minor": 2
}